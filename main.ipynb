{
 "cells": [
  {
   "cell_type": "markdown",
   "id": "5b13b22d",
   "metadata": {
    "papermill": {
     "duration": 0.004393,
     "end_time": "2025-02-09T02:55:58.563653",
     "exception": false,
     "start_time": "2025-02-09T02:55:58.559260",
     "status": "completed"
    },
    "tags": []
   },
   "source": [
    "# **Credit Card Fraud Prediction**"
   ]
  },
  {
   "cell_type": "markdown",
   "id": "deaf71ff",
   "metadata": {
    "papermill": {
     "duration": 0.003328,
     "end_time": "2025-02-09T02:55:58.570848",
     "exception": false,
     "start_time": "2025-02-09T02:55:58.567520",
     "status": "completed"
    },
    "tags": []
   },
   "source": [
    "##  **(1) Load Data**"
   ]
  },
  {
   "cell_type": "code",
   "execution_count": 1,
   "id": "c566c444",
   "metadata": {
    "execution": {
     "iopub.execute_input": "2025-02-09T02:55:58.578920Z",
     "iopub.status.busy": "2025-02-09T02:55:58.578693Z",
     "iopub.status.idle": "2025-02-09T02:56:02.229645Z",
     "shell.execute_reply": "2025-02-09T02:56:02.228691Z"
    },
    "papermill": {
     "duration": 3.657105,
     "end_time": "2025-02-09T02:56:02.231665",
     "exception": false,
     "start_time": "2025-02-09T02:55:58.574560",
     "status": "completed"
    },
    "tags": []
   },
   "outputs": [],
   "source": [
    "import pandas as pd\n",
    "\n",
    "# Load Data\n",
    "df = pd.read_csv('creditcard.csv')"
   ]
  },
  {
   "cell_type": "markdown",
   "id": "650e4308",
   "metadata": {
    "papermill": {
     "duration": 0.00615,
     "end_time": "2025-02-09T02:56:02.242735",
     "exception": false,
     "start_time": "2025-02-09T02:56:02.236585",
     "status": "completed"
    },
    "tags": []
   },
   "source": [
    "###  **Check Basic Information**"
   ]
  },
  {
   "cell_type": "code",
   "execution_count": 2,
   "id": "4a22f053",
   "metadata": {
    "execution": {
     "iopub.execute_input": "2025-02-09T02:56:02.253439Z",
     "iopub.status.busy": "2025-02-09T02:56:02.253143Z",
     "iopub.status.idle": "2025-02-09T02:56:02.286078Z",
     "shell.execute_reply": "2025-02-09T02:56:02.285389Z"
    },
    "papermill": {
     "duration": 0.038408,
     "end_time": "2025-02-09T02:56:02.287295",
     "exception": false,
     "start_time": "2025-02-09T02:56:02.248887",
     "status": "completed"
    },
    "tags": []
   },
   "outputs": [
    {
     "data": {
      "text/html": [
       "<div>\n",
       "<style scoped>\n",
       "    .dataframe tbody tr th:only-of-type {\n",
       "        vertical-align: middle;\n",
       "    }\n",
       "\n",
       "    .dataframe tbody tr th {\n",
       "        vertical-align: top;\n",
       "    }\n",
       "\n",
       "    .dataframe thead th {\n",
       "        text-align: right;\n",
       "    }\n",
       "</style>\n",
       "<table border=\"1\" class=\"dataframe\">\n",
       "  <thead>\n",
       "    <tr style=\"text-align: right;\">\n",
       "      <th></th>\n",
       "      <th>Time</th>\n",
       "      <th>V1</th>\n",
       "      <th>V2</th>\n",
       "      <th>V3</th>\n",
       "      <th>V4</th>\n",
       "      <th>V5</th>\n",
       "      <th>V6</th>\n",
       "      <th>V7</th>\n",
       "      <th>V8</th>\n",
       "      <th>V9</th>\n",
       "      <th>...</th>\n",
       "      <th>V21</th>\n",
       "      <th>V22</th>\n",
       "      <th>V23</th>\n",
       "      <th>V24</th>\n",
       "      <th>V25</th>\n",
       "      <th>V26</th>\n",
       "      <th>V27</th>\n",
       "      <th>V28</th>\n",
       "      <th>Amount</th>\n",
       "      <th>Class</th>\n",
       "    </tr>\n",
       "  </thead>\n",
       "  <tbody>\n",
       "    <tr>\n",
       "      <th>0</th>\n",
       "      <td>0.0</td>\n",
       "      <td>-1.359807</td>\n",
       "      <td>-0.072781</td>\n",
       "      <td>2.536347</td>\n",
       "      <td>1.378155</td>\n",
       "      <td>-0.338321</td>\n",
       "      <td>0.462388</td>\n",
       "      <td>0.239599</td>\n",
       "      <td>0.098698</td>\n",
       "      <td>0.363787</td>\n",
       "      <td>...</td>\n",
       "      <td>-0.018307</td>\n",
       "      <td>0.277838</td>\n",
       "      <td>-0.110474</td>\n",
       "      <td>0.066928</td>\n",
       "      <td>0.128539</td>\n",
       "      <td>-0.189115</td>\n",
       "      <td>0.133558</td>\n",
       "      <td>-0.021053</td>\n",
       "      <td>149.62</td>\n",
       "      <td>0</td>\n",
       "    </tr>\n",
       "    <tr>\n",
       "      <th>1</th>\n",
       "      <td>0.0</td>\n",
       "      <td>1.191857</td>\n",
       "      <td>0.266151</td>\n",
       "      <td>0.166480</td>\n",
       "      <td>0.448154</td>\n",
       "      <td>0.060018</td>\n",
       "      <td>-0.082361</td>\n",
       "      <td>-0.078803</td>\n",
       "      <td>0.085102</td>\n",
       "      <td>-0.255425</td>\n",
       "      <td>...</td>\n",
       "      <td>-0.225775</td>\n",
       "      <td>-0.638672</td>\n",
       "      <td>0.101288</td>\n",
       "      <td>-0.339846</td>\n",
       "      <td>0.167170</td>\n",
       "      <td>0.125895</td>\n",
       "      <td>-0.008983</td>\n",
       "      <td>0.014724</td>\n",
       "      <td>2.69</td>\n",
       "      <td>0</td>\n",
       "    </tr>\n",
       "    <tr>\n",
       "      <th>2</th>\n",
       "      <td>1.0</td>\n",
       "      <td>-1.358354</td>\n",
       "      <td>-1.340163</td>\n",
       "      <td>1.773209</td>\n",
       "      <td>0.379780</td>\n",
       "      <td>-0.503198</td>\n",
       "      <td>1.800499</td>\n",
       "      <td>0.791461</td>\n",
       "      <td>0.247676</td>\n",
       "      <td>-1.514654</td>\n",
       "      <td>...</td>\n",
       "      <td>0.247998</td>\n",
       "      <td>0.771679</td>\n",
       "      <td>0.909412</td>\n",
       "      <td>-0.689281</td>\n",
       "      <td>-0.327642</td>\n",
       "      <td>-0.139097</td>\n",
       "      <td>-0.055353</td>\n",
       "      <td>-0.059752</td>\n",
       "      <td>378.66</td>\n",
       "      <td>0</td>\n",
       "    </tr>\n",
       "    <tr>\n",
       "      <th>3</th>\n",
       "      <td>1.0</td>\n",
       "      <td>-0.966272</td>\n",
       "      <td>-0.185226</td>\n",
       "      <td>1.792993</td>\n",
       "      <td>-0.863291</td>\n",
       "      <td>-0.010309</td>\n",
       "      <td>1.247203</td>\n",
       "      <td>0.237609</td>\n",
       "      <td>0.377436</td>\n",
       "      <td>-1.387024</td>\n",
       "      <td>...</td>\n",
       "      <td>-0.108300</td>\n",
       "      <td>0.005274</td>\n",
       "      <td>-0.190321</td>\n",
       "      <td>-1.175575</td>\n",
       "      <td>0.647376</td>\n",
       "      <td>-0.221929</td>\n",
       "      <td>0.062723</td>\n",
       "      <td>0.061458</td>\n",
       "      <td>123.50</td>\n",
       "      <td>0</td>\n",
       "    </tr>\n",
       "    <tr>\n",
       "      <th>4</th>\n",
       "      <td>2.0</td>\n",
       "      <td>-1.158233</td>\n",
       "      <td>0.877737</td>\n",
       "      <td>1.548718</td>\n",
       "      <td>0.403034</td>\n",
       "      <td>-0.407193</td>\n",
       "      <td>0.095921</td>\n",
       "      <td>0.592941</td>\n",
       "      <td>-0.270533</td>\n",
       "      <td>0.817739</td>\n",
       "      <td>...</td>\n",
       "      <td>-0.009431</td>\n",
       "      <td>0.798278</td>\n",
       "      <td>-0.137458</td>\n",
       "      <td>0.141267</td>\n",
       "      <td>-0.206010</td>\n",
       "      <td>0.502292</td>\n",
       "      <td>0.219422</td>\n",
       "      <td>0.215153</td>\n",
       "      <td>69.99</td>\n",
       "      <td>0</td>\n",
       "    </tr>\n",
       "  </tbody>\n",
       "</table>\n",
       "<p>5 rows × 31 columns</p>\n",
       "</div>"
      ],
      "text/plain": [
       "   Time        V1        V2        V3        V4        V5        V6        V7  \\\n",
       "0   0.0 -1.359807 -0.072781  2.536347  1.378155 -0.338321  0.462388  0.239599   \n",
       "1   0.0  1.191857  0.266151  0.166480  0.448154  0.060018 -0.082361 -0.078803   \n",
       "2   1.0 -1.358354 -1.340163  1.773209  0.379780 -0.503198  1.800499  0.791461   \n",
       "3   1.0 -0.966272 -0.185226  1.792993 -0.863291 -0.010309  1.247203  0.237609   \n",
       "4   2.0 -1.158233  0.877737  1.548718  0.403034 -0.407193  0.095921  0.592941   \n",
       "\n",
       "         V8        V9  ...       V21       V22       V23       V24       V25  \\\n",
       "0  0.098698  0.363787  ... -0.018307  0.277838 -0.110474  0.066928  0.128539   \n",
       "1  0.085102 -0.255425  ... -0.225775 -0.638672  0.101288 -0.339846  0.167170   \n",
       "2  0.247676 -1.514654  ...  0.247998  0.771679  0.909412 -0.689281 -0.327642   \n",
       "3  0.377436 -1.387024  ... -0.108300  0.005274 -0.190321 -1.175575  0.647376   \n",
       "4 -0.270533  0.817739  ... -0.009431  0.798278 -0.137458  0.141267 -0.206010   \n",
       "\n",
       "        V26       V27       V28  Amount  Class  \n",
       "0 -0.189115  0.133558 -0.021053  149.62      0  \n",
       "1  0.125895 -0.008983  0.014724    2.69      0  \n",
       "2 -0.139097 -0.055353 -0.059752  378.66      0  \n",
       "3 -0.221929  0.062723  0.061458  123.50      0  \n",
       "4  0.502292  0.219422  0.215153   69.99      0  \n",
       "\n",
       "[5 rows x 31 columns]"
      ]
     },
     "execution_count": 2,
     "metadata": {},
     "output_type": "execute_result"
    }
   ],
   "source": [
    "df.head(5)"
   ]
  },
  {
   "cell_type": "code",
   "execution_count": 3,
   "id": "53e9f007",
   "metadata": {
    "execution": {
     "iopub.execute_input": "2025-02-09T02:56:02.296084Z",
     "iopub.status.busy": "2025-02-09T02:56:02.295873Z",
     "iopub.status.idle": "2025-02-09T02:56:02.365740Z",
     "shell.execute_reply": "2025-02-09T02:56:02.363979Z"
    },
    "papermill": {
     "duration": 0.077696,
     "end_time": "2025-02-09T02:56:02.369010",
     "exception": false,
     "start_time": "2025-02-09T02:56:02.291314",
     "status": "completed"
    },
    "tags": []
   },
   "outputs": [
    {
     "name": "stdout",
     "output_type": "stream",
     "text": [
      "<class 'pandas.core.frame.DataFrame'>\n",
      "RangeIndex: 284807 entries, 0 to 284806\n",
      "Data columns (total 31 columns):\n",
      " #   Column  Non-Null Count   Dtype  \n",
      "---  ------  --------------   -----  \n",
      " 0   Time    284807 non-null  float64\n",
      " 1   V1      284807 non-null  float64\n",
      " 2   V2      284807 non-null  float64\n",
      " 3   V3      284807 non-null  float64\n",
      " 4   V4      284807 non-null  float64\n",
      " 5   V5      284807 non-null  float64\n",
      " 6   V6      284807 non-null  float64\n",
      " 7   V7      284807 non-null  float64\n",
      " 8   V8      284807 non-null  float64\n",
      " 9   V9      284807 non-null  float64\n",
      " 10  V10     284807 non-null  float64\n",
      " 11  V11     284807 non-null  float64\n",
      " 12  V12     284807 non-null  float64\n",
      " 13  V13     284807 non-null  float64\n",
      " 14  V14     284807 non-null  float64\n",
      " 15  V15     284807 non-null  float64\n",
      " 16  V16     284807 non-null  float64\n",
      " 17  V17     284807 non-null  float64\n",
      " 18  V18     284807 non-null  float64\n",
      " 19  V19     284807 non-null  float64\n",
      " 20  V20     284807 non-null  float64\n",
      " 21  V21     284807 non-null  float64\n",
      " 22  V22     284807 non-null  float64\n",
      " 23  V23     284807 non-null  float64\n",
      " 24  V24     284807 non-null  float64\n",
      " 25  V25     284807 non-null  float64\n",
      " 26  V26     284807 non-null  float64\n",
      " 27  V27     284807 non-null  float64\n",
      " 28  V28     284807 non-null  float64\n",
      " 29  Amount  284807 non-null  float64\n",
      " 30  Class   284807 non-null  int64  \n",
      "dtypes: float64(30), int64(1)\n",
      "memory usage: 67.4 MB\n"
     ]
    }
   ],
   "source": [
    "df.info()"
   ]
  },
  {
   "cell_type": "code",
   "execution_count": 4,
   "id": "ce80275e",
   "metadata": {
    "execution": {
     "iopub.execute_input": "2025-02-09T02:56:02.381053Z",
     "iopub.status.busy": "2025-02-09T02:56:02.380651Z",
     "iopub.status.idle": "2025-02-09T02:56:02.808354Z",
     "shell.execute_reply": "2025-02-09T02:56:02.807458Z"
    },
    "papermill": {
     "duration": 0.435154,
     "end_time": "2025-02-09T02:56:02.810074",
     "exception": false,
     "start_time": "2025-02-09T02:56:02.374920",
     "status": "completed"
    },
    "tags": []
   },
   "outputs": [
    {
     "data": {
      "text/html": [
       "<div>\n",
       "<style scoped>\n",
       "    .dataframe tbody tr th:only-of-type {\n",
       "        vertical-align: middle;\n",
       "    }\n",
       "\n",
       "    .dataframe tbody tr th {\n",
       "        vertical-align: top;\n",
       "    }\n",
       "\n",
       "    .dataframe thead th {\n",
       "        text-align: right;\n",
       "    }\n",
       "</style>\n",
       "<table border=\"1\" class=\"dataframe\">\n",
       "  <thead>\n",
       "    <tr style=\"text-align: right;\">\n",
       "      <th></th>\n",
       "      <th>Time</th>\n",
       "      <th>V1</th>\n",
       "      <th>V2</th>\n",
       "      <th>V3</th>\n",
       "      <th>V4</th>\n",
       "      <th>V5</th>\n",
       "      <th>V6</th>\n",
       "      <th>V7</th>\n",
       "      <th>V8</th>\n",
       "      <th>V9</th>\n",
       "      <th>...</th>\n",
       "      <th>V21</th>\n",
       "      <th>V22</th>\n",
       "      <th>V23</th>\n",
       "      <th>V24</th>\n",
       "      <th>V25</th>\n",
       "      <th>V26</th>\n",
       "      <th>V27</th>\n",
       "      <th>V28</th>\n",
       "      <th>Amount</th>\n",
       "      <th>Class</th>\n",
       "    </tr>\n",
       "  </thead>\n",
       "  <tbody>\n",
       "    <tr>\n",
       "      <th>count</th>\n",
       "      <td>284807.000000</td>\n",
       "      <td>2.848070e+05</td>\n",
       "      <td>2.848070e+05</td>\n",
       "      <td>2.848070e+05</td>\n",
       "      <td>2.848070e+05</td>\n",
       "      <td>2.848070e+05</td>\n",
       "      <td>2.848070e+05</td>\n",
       "      <td>2.848070e+05</td>\n",
       "      <td>2.848070e+05</td>\n",
       "      <td>2.848070e+05</td>\n",
       "      <td>...</td>\n",
       "      <td>2.848070e+05</td>\n",
       "      <td>2.848070e+05</td>\n",
       "      <td>2.848070e+05</td>\n",
       "      <td>2.848070e+05</td>\n",
       "      <td>2.848070e+05</td>\n",
       "      <td>2.848070e+05</td>\n",
       "      <td>2.848070e+05</td>\n",
       "      <td>2.848070e+05</td>\n",
       "      <td>284807.000000</td>\n",
       "      <td>284807.000000</td>\n",
       "    </tr>\n",
       "    <tr>\n",
       "      <th>mean</th>\n",
       "      <td>94813.859575</td>\n",
       "      <td>1.168375e-15</td>\n",
       "      <td>3.416908e-16</td>\n",
       "      <td>-1.379537e-15</td>\n",
       "      <td>2.074095e-15</td>\n",
       "      <td>9.604066e-16</td>\n",
       "      <td>1.487313e-15</td>\n",
       "      <td>-5.556467e-16</td>\n",
       "      <td>1.213481e-16</td>\n",
       "      <td>-2.406331e-15</td>\n",
       "      <td>...</td>\n",
       "      <td>1.654067e-16</td>\n",
       "      <td>-3.568593e-16</td>\n",
       "      <td>2.578648e-16</td>\n",
       "      <td>4.473266e-15</td>\n",
       "      <td>5.340915e-16</td>\n",
       "      <td>1.683437e-15</td>\n",
       "      <td>-3.660091e-16</td>\n",
       "      <td>-1.227390e-16</td>\n",
       "      <td>88.349619</td>\n",
       "      <td>0.001727</td>\n",
       "    </tr>\n",
       "    <tr>\n",
       "      <th>std</th>\n",
       "      <td>47488.145955</td>\n",
       "      <td>1.958696e+00</td>\n",
       "      <td>1.651309e+00</td>\n",
       "      <td>1.516255e+00</td>\n",
       "      <td>1.415869e+00</td>\n",
       "      <td>1.380247e+00</td>\n",
       "      <td>1.332271e+00</td>\n",
       "      <td>1.237094e+00</td>\n",
       "      <td>1.194353e+00</td>\n",
       "      <td>1.098632e+00</td>\n",
       "      <td>...</td>\n",
       "      <td>7.345240e-01</td>\n",
       "      <td>7.257016e-01</td>\n",
       "      <td>6.244603e-01</td>\n",
       "      <td>6.056471e-01</td>\n",
       "      <td>5.212781e-01</td>\n",
       "      <td>4.822270e-01</td>\n",
       "      <td>4.036325e-01</td>\n",
       "      <td>3.300833e-01</td>\n",
       "      <td>250.120109</td>\n",
       "      <td>0.041527</td>\n",
       "    </tr>\n",
       "    <tr>\n",
       "      <th>min</th>\n",
       "      <td>0.000000</td>\n",
       "      <td>-5.640751e+01</td>\n",
       "      <td>-7.271573e+01</td>\n",
       "      <td>-4.832559e+01</td>\n",
       "      <td>-5.683171e+00</td>\n",
       "      <td>-1.137433e+02</td>\n",
       "      <td>-2.616051e+01</td>\n",
       "      <td>-4.355724e+01</td>\n",
       "      <td>-7.321672e+01</td>\n",
       "      <td>-1.343407e+01</td>\n",
       "      <td>...</td>\n",
       "      <td>-3.483038e+01</td>\n",
       "      <td>-1.093314e+01</td>\n",
       "      <td>-4.480774e+01</td>\n",
       "      <td>-2.836627e+00</td>\n",
       "      <td>-1.029540e+01</td>\n",
       "      <td>-2.604551e+00</td>\n",
       "      <td>-2.256568e+01</td>\n",
       "      <td>-1.543008e+01</td>\n",
       "      <td>0.000000</td>\n",
       "      <td>0.000000</td>\n",
       "    </tr>\n",
       "    <tr>\n",
       "      <th>25%</th>\n",
       "      <td>54201.500000</td>\n",
       "      <td>-9.203734e-01</td>\n",
       "      <td>-5.985499e-01</td>\n",
       "      <td>-8.903648e-01</td>\n",
       "      <td>-8.486401e-01</td>\n",
       "      <td>-6.915971e-01</td>\n",
       "      <td>-7.682956e-01</td>\n",
       "      <td>-5.540759e-01</td>\n",
       "      <td>-2.086297e-01</td>\n",
       "      <td>-6.430976e-01</td>\n",
       "      <td>...</td>\n",
       "      <td>-2.283949e-01</td>\n",
       "      <td>-5.423504e-01</td>\n",
       "      <td>-1.618463e-01</td>\n",
       "      <td>-3.545861e-01</td>\n",
       "      <td>-3.171451e-01</td>\n",
       "      <td>-3.269839e-01</td>\n",
       "      <td>-7.083953e-02</td>\n",
       "      <td>-5.295979e-02</td>\n",
       "      <td>5.600000</td>\n",
       "      <td>0.000000</td>\n",
       "    </tr>\n",
       "    <tr>\n",
       "      <th>50%</th>\n",
       "      <td>84692.000000</td>\n",
       "      <td>1.810880e-02</td>\n",
       "      <td>6.548556e-02</td>\n",
       "      <td>1.798463e-01</td>\n",
       "      <td>-1.984653e-02</td>\n",
       "      <td>-5.433583e-02</td>\n",
       "      <td>-2.741871e-01</td>\n",
       "      <td>4.010308e-02</td>\n",
       "      <td>2.235804e-02</td>\n",
       "      <td>-5.142873e-02</td>\n",
       "      <td>...</td>\n",
       "      <td>-2.945017e-02</td>\n",
       "      <td>6.781943e-03</td>\n",
       "      <td>-1.119293e-02</td>\n",
       "      <td>4.097606e-02</td>\n",
       "      <td>1.659350e-02</td>\n",
       "      <td>-5.213911e-02</td>\n",
       "      <td>1.342146e-03</td>\n",
       "      <td>1.124383e-02</td>\n",
       "      <td>22.000000</td>\n",
       "      <td>0.000000</td>\n",
       "    </tr>\n",
       "    <tr>\n",
       "      <th>75%</th>\n",
       "      <td>139320.500000</td>\n",
       "      <td>1.315642e+00</td>\n",
       "      <td>8.037239e-01</td>\n",
       "      <td>1.027196e+00</td>\n",
       "      <td>7.433413e-01</td>\n",
       "      <td>6.119264e-01</td>\n",
       "      <td>3.985649e-01</td>\n",
       "      <td>5.704361e-01</td>\n",
       "      <td>3.273459e-01</td>\n",
       "      <td>5.971390e-01</td>\n",
       "      <td>...</td>\n",
       "      <td>1.863772e-01</td>\n",
       "      <td>5.285536e-01</td>\n",
       "      <td>1.476421e-01</td>\n",
       "      <td>4.395266e-01</td>\n",
       "      <td>3.507156e-01</td>\n",
       "      <td>2.409522e-01</td>\n",
       "      <td>9.104512e-02</td>\n",
       "      <td>7.827995e-02</td>\n",
       "      <td>77.165000</td>\n",
       "      <td>0.000000</td>\n",
       "    </tr>\n",
       "    <tr>\n",
       "      <th>max</th>\n",
       "      <td>172792.000000</td>\n",
       "      <td>2.454930e+00</td>\n",
       "      <td>2.205773e+01</td>\n",
       "      <td>9.382558e+00</td>\n",
       "      <td>1.687534e+01</td>\n",
       "      <td>3.480167e+01</td>\n",
       "      <td>7.330163e+01</td>\n",
       "      <td>1.205895e+02</td>\n",
       "      <td>2.000721e+01</td>\n",
       "      <td>1.559499e+01</td>\n",
       "      <td>...</td>\n",
       "      <td>2.720284e+01</td>\n",
       "      <td>1.050309e+01</td>\n",
       "      <td>2.252841e+01</td>\n",
       "      <td>4.584549e+00</td>\n",
       "      <td>7.519589e+00</td>\n",
       "      <td>3.517346e+00</td>\n",
       "      <td>3.161220e+01</td>\n",
       "      <td>3.384781e+01</td>\n",
       "      <td>25691.160000</td>\n",
       "      <td>1.000000</td>\n",
       "    </tr>\n",
       "  </tbody>\n",
       "</table>\n",
       "<p>8 rows × 31 columns</p>\n",
       "</div>"
      ],
      "text/plain": [
       "                Time            V1            V2            V3            V4  \\\n",
       "count  284807.000000  2.848070e+05  2.848070e+05  2.848070e+05  2.848070e+05   \n",
       "mean    94813.859575  1.168375e-15  3.416908e-16 -1.379537e-15  2.074095e-15   \n",
       "std     47488.145955  1.958696e+00  1.651309e+00  1.516255e+00  1.415869e+00   \n",
       "min         0.000000 -5.640751e+01 -7.271573e+01 -4.832559e+01 -5.683171e+00   \n",
       "25%     54201.500000 -9.203734e-01 -5.985499e-01 -8.903648e-01 -8.486401e-01   \n",
       "50%     84692.000000  1.810880e-02  6.548556e-02  1.798463e-01 -1.984653e-02   \n",
       "75%    139320.500000  1.315642e+00  8.037239e-01  1.027196e+00  7.433413e-01   \n",
       "max    172792.000000  2.454930e+00  2.205773e+01  9.382558e+00  1.687534e+01   \n",
       "\n",
       "                 V5            V6            V7            V8            V9  \\\n",
       "count  2.848070e+05  2.848070e+05  2.848070e+05  2.848070e+05  2.848070e+05   \n",
       "mean   9.604066e-16  1.487313e-15 -5.556467e-16  1.213481e-16 -2.406331e-15   \n",
       "std    1.380247e+00  1.332271e+00  1.237094e+00  1.194353e+00  1.098632e+00   \n",
       "min   -1.137433e+02 -2.616051e+01 -4.355724e+01 -7.321672e+01 -1.343407e+01   \n",
       "25%   -6.915971e-01 -7.682956e-01 -5.540759e-01 -2.086297e-01 -6.430976e-01   \n",
       "50%   -5.433583e-02 -2.741871e-01  4.010308e-02  2.235804e-02 -5.142873e-02   \n",
       "75%    6.119264e-01  3.985649e-01  5.704361e-01  3.273459e-01  5.971390e-01   \n",
       "max    3.480167e+01  7.330163e+01  1.205895e+02  2.000721e+01  1.559499e+01   \n",
       "\n",
       "       ...           V21           V22           V23           V24  \\\n",
       "count  ...  2.848070e+05  2.848070e+05  2.848070e+05  2.848070e+05   \n",
       "mean   ...  1.654067e-16 -3.568593e-16  2.578648e-16  4.473266e-15   \n",
       "std    ...  7.345240e-01  7.257016e-01  6.244603e-01  6.056471e-01   \n",
       "min    ... -3.483038e+01 -1.093314e+01 -4.480774e+01 -2.836627e+00   \n",
       "25%    ... -2.283949e-01 -5.423504e-01 -1.618463e-01 -3.545861e-01   \n",
       "50%    ... -2.945017e-02  6.781943e-03 -1.119293e-02  4.097606e-02   \n",
       "75%    ...  1.863772e-01  5.285536e-01  1.476421e-01  4.395266e-01   \n",
       "max    ...  2.720284e+01  1.050309e+01  2.252841e+01  4.584549e+00   \n",
       "\n",
       "                V25           V26           V27           V28         Amount  \\\n",
       "count  2.848070e+05  2.848070e+05  2.848070e+05  2.848070e+05  284807.000000   \n",
       "mean   5.340915e-16  1.683437e-15 -3.660091e-16 -1.227390e-16      88.349619   \n",
       "std    5.212781e-01  4.822270e-01  4.036325e-01  3.300833e-01     250.120109   \n",
       "min   -1.029540e+01 -2.604551e+00 -2.256568e+01 -1.543008e+01       0.000000   \n",
       "25%   -3.171451e-01 -3.269839e-01 -7.083953e-02 -5.295979e-02       5.600000   \n",
       "50%    1.659350e-02 -5.213911e-02  1.342146e-03  1.124383e-02      22.000000   \n",
       "75%    3.507156e-01  2.409522e-01  9.104512e-02  7.827995e-02      77.165000   \n",
       "max    7.519589e+00  3.517346e+00  3.161220e+01  3.384781e+01   25691.160000   \n",
       "\n",
       "               Class  \n",
       "count  284807.000000  \n",
       "mean        0.001727  \n",
       "std         0.041527  \n",
       "min         0.000000  \n",
       "25%         0.000000  \n",
       "50%         0.000000  \n",
       "75%         0.000000  \n",
       "max         1.000000  \n",
       "\n",
       "[8 rows x 31 columns]"
      ]
     },
     "execution_count": 4,
     "metadata": {},
     "output_type": "execute_result"
    }
   ],
   "source": [
    "df.describe()"
   ]
  },
  {
   "cell_type": "code",
   "execution_count": 5,
   "id": "a1065c69",
   "metadata": {
    "execution": {
     "iopub.execute_input": "2025-02-09T02:56:02.821298Z",
     "iopub.status.busy": "2025-02-09T02:56:02.821015Z",
     "iopub.status.idle": "2025-02-09T02:56:02.861042Z",
     "shell.execute_reply": "2025-02-09T02:56:02.859948Z"
    },
    "papermill": {
     "duration": 0.046991,
     "end_time": "2025-02-09T02:56:02.862488",
     "exception": false,
     "start_time": "2025-02-09T02:56:02.815497",
     "status": "completed"
    },
    "tags": []
   },
   "outputs": [
    {
     "name": "stdout",
     "output_type": "stream",
     "text": [
      "Time      0\n",
      "V1        0\n",
      "V2        0\n",
      "V3        0\n",
      "V4        0\n",
      "V5        0\n",
      "V6        0\n",
      "V7        0\n",
      "V8        0\n",
      "V9        0\n",
      "V10       0\n",
      "V11       0\n",
      "V12       0\n",
      "V13       0\n",
      "V14       0\n",
      "V15       0\n",
      "V16       0\n",
      "V17       0\n",
      "V18       0\n",
      "V19       0\n",
      "V20       0\n",
      "V21       0\n",
      "V22       0\n",
      "V23       0\n",
      "V24       0\n",
      "V25       0\n",
      "V26       0\n",
      "V27       0\n",
      "V28       0\n",
      "Amount    0\n",
      "Class     0\n",
      "dtype: int64\n"
     ]
    }
   ],
   "source": [
    "# Check Missing Values\n",
    "print(df.isnull().sum())"
   ]
  },
  {
   "cell_type": "code",
   "execution_count": 6,
   "id": "7f5307de",
   "metadata": {
    "execution": {
     "iopub.execute_input": "2025-02-09T02:56:02.873814Z",
     "iopub.status.busy": "2025-02-09T02:56:02.873472Z",
     "iopub.status.idle": "2025-02-09T02:56:02.882846Z",
     "shell.execute_reply": "2025-02-09T02:56:02.881968Z"
    },
    "papermill": {
     "duration": 0.016545,
     "end_time": "2025-02-09T02:56:02.884360",
     "exception": false,
     "start_time": "2025-02-09T02:56:02.867815",
     "status": "completed"
    },
    "tags": []
   },
   "outputs": [
    {
     "name": "stdout",
     "output_type": "stream",
     "text": [
      "Class\n",
      "0    284315\n",
      "1       492\n",
      "Name: count, dtype: int64\n"
     ]
    }
   ],
   "source": [
    "# Class Count\n",
    "print(df['Class'].value_counts())"
   ]
  },
  {
   "cell_type": "markdown",
   "id": "1757ba5b",
   "metadata": {
    "papermill": {
     "duration": 0.004212,
     "end_time": "2025-02-09T02:56:02.892999",
     "exception": false,
     "start_time": "2025-02-09T02:56:02.888787",
     "status": "completed"
    },
    "tags": []
   },
   "source": [
    "##  **(2) EDA**"
   ]
  },
  {
   "cell_type": "code",
   "execution_count": 7,
   "id": "8e497400",
   "metadata": {
    "execution": {
     "iopub.execute_input": "2025-02-09T02:56:02.902991Z",
     "iopub.status.busy": "2025-02-09T02:56:02.902749Z",
     "iopub.status.idle": "2025-02-09T02:56:04.452583Z",
     "shell.execute_reply": "2025-02-09T02:56:04.451835Z"
    },
    "papermill": {
     "duration": 1.556491,
     "end_time": "2025-02-09T02:56:04.454142",
     "exception": false,
     "start_time": "2025-02-09T02:56:02.897651",
     "status": "completed"
    },
    "tags": []
   },
   "outputs": [
    {
     "data": {
      "image/png": "[encoded data removed]",
      "text/plain": [
       "<Figure size 640x480 with 1 Axes>"
      ]
     },
     "metadata": {},
     "output_type": "display_data"
    }
   ],
   "source": [
    "import matplotlib.pyplot as plt\n",
    "import seaborn as sns\n",
    "\n",
    "# Class Distribution\n",
    "sns.countplot(x=\"Class\", data=df)\n",
    "plt.title(\"Class Distribution\")\n",
    "plt.show()"
   ]
  },
  {
   "cell_type": "code",
   "execution_count": 8,
   "id": "6a2c578e",
   "metadata": {
    "execution": {
     "iopub.execute_input": "2025-02-09T02:56:04.464987Z",
     "iopub.status.busy": "2025-02-09T02:56:04.464645Z",
     "iopub.status.idle": "2025-02-09T02:56:05.221636Z",
     "shell.execute_reply": "2025-02-09T02:56:05.220713Z"
    },
    "papermill": {
     "duration": 0.763653,
     "end_time": "2025-02-09T02:56:05.222934",
     "exception": false,
     "start_time": "2025-02-09T02:56:04.459281",
     "status": "completed"
    },
    "tags": []
   },
   "outputs": [
    {
     "data": {
      "image/png": "[encoded data removed]",
      "text/plain": [
       "<Figure size 1400x600 with 2 Axes>"
      ]
     },
     "metadata": {},
     "output_type": "display_data"
    }
   ],
   "source": [
    "#Distribution of Time and Transaction Amount\n",
    "fig, ax = plt.subplots(1, 2, figsize=(14,6))\n",
    "sns.histplot(df['Time'],bins = 50, ax = ax[0])\n",
    "ax[0].set_title(\"Distribution of Transaction Time\")\n",
    "sns.histplot(df['Amount'],bins = 50, ax = ax[1])\n",
    "ax[1].set_title(\"Distribution of Transaction Time\")\n",
    "plt.show()"
   ]
  },
  {
   "cell_type": "markdown",
   "id": "f74939af",
   "metadata": {
    "papermill": {
     "duration": 0.00685,
     "end_time": "2025-02-09T02:56:05.235773",
     "exception": false,
     "start_time": "2025-02-09T02:56:05.228923",
     "status": "completed"
    },
    "tags": []
   },
   "source": [
    "## **(3) Data Preprocessing**"
   ]
  },
  {
   "cell_type": "code",
   "execution_count": 9,
   "id": "32eb9f14",
   "metadata": {
    "execution": {
     "iopub.execute_input": "2025-02-09T02:56:05.247940Z",
     "iopub.status.busy": "2025-02-09T02:56:05.247716Z",
     "iopub.status.idle": "2025-02-09T02:56:05.803099Z",
     "shell.execute_reply": "2025-02-09T02:56:05.802232Z"
    },
    "papermill": {
     "duration": 0.563228,
     "end_time": "2025-02-09T02:56:05.804610",
     "exception": false,
     "start_time": "2025-02-09T02:56:05.241382",
     "status": "completed"
    },
    "tags": []
   },
   "outputs": [
    {
     "name": "stdout",
     "output_type": "stream",
     "text": [
      "Train set: (182276, 31), Validation set: (45569, 31), Test set: (56962, 31)\n"
     ]
    }
   ],
   "source": [
    "from sklearn.preprocessing import StandardScaler\n",
    "from sklearn.model_selection import train_test_split\n",
    "\n",
    "#Time Conversion (Seconds → Hours)\n",
    "df['Hour'] = df['Time'] / 3600 % 24\n",
    "\n",
    "# Amount Normalization\n",
    "scaler = StandardScaler()\n",
    "df['Amount'] = scaler.fit_transform(df[['Amount']])\n",
    "\n",
    "# Remove Unnecessary Columns\n",
    "# df.drop(columns =['Time'], inplace = True)\n",
    "\n",
    "# x, y separation\n",
    "x = df.drop(columns = ['Class'])\n",
    "y = df['Class']\n",
    "\n",
    "# df -> train / test data partitioning\n",
    "x_train, x_test, y_train, y_test = train_test_split(x, y, test_size = 0.2, random_state = 42, stratify = y)\n",
    "\n",
    "# train -> train / val data partitioning\n",
    "x_train_final, x_val, y_train_final, y_val = train_test_split(\n",
    "    x_train, y_train, test_size = 0.2, random_state = 42, stratify=y_train\n",
    ")\n",
    "\n",
    "print(f\"Train set: {x_train_final.shape}, Validation set: {x_val.shape}, Test set: {x_test.shape}\")"
   ]
  },
  {
   "cell_type": "markdown",
   "id": "4f1ce528",
   "metadata": {
    "papermill": {
     "duration": 0.005712,
     "end_time": "2025-02-09T02:56:05.816135",
     "exception": false,
     "start_time": "2025-02-09T02:56:05.810423",
     "status": "completed"
    },
    "tags": []
   },
   "source": [
    "## **(4) Imbalanced data processing**"
   ]
  },
  {
   "cell_type": "code",
   "execution_count": 10,
   "id": "e6a8e2b1",
   "metadata": {
    "execution": {
     "iopub.execute_input": "2025-02-09T02:56:05.828323Z",
     "iopub.status.busy": "2025-02-09T02:56:05.828014Z",
     "iopub.status.idle": "2025-02-09T02:56:06.632405Z",
     "shell.execute_reply": "2025-02-09T02:56:06.631382Z"
    },
    "papermill": {
     "duration": 0.812267,
     "end_time": "2025-02-09T02:56:06.633949",
     "exception": false,
     "start_time": "2025-02-09T02:56:05.821682",
     "status": "completed"
    },
    "tags": []
   },
   "outputs": [
    {
     "name": "stdout",
     "output_type": "stream",
     "text": [
      "Before SMOTE: Class\n",
      "0    181961\n",
      "1       315\n",
      "Name: count, dtype: int64\n",
      "After SMOTE: Class\n",
      "0    181961\n",
      "1     36392\n",
      "Name: count, dtype: int64\n"
     ]
    }
   ],
   "source": [
    "import imblearn\n",
    "from imblearn.over_sampling import SMOTE\n",
    "\n",
    "# SMOTE Apply oversampling\n",
    "smote = SMOTE(sampling_strategy = 0.2, random_state = 42)\n",
    "x_train_resampled, y_train_resampled = smote.fit_resample(x_train_final, y_train_final)\n",
    "\n",
    "print(\"Before SMOTE:\", y_train_final.value_counts())\n",
    "print(\"After SMOTE:\", pd.Series(y_train_resampled).value_counts())\n"
   ]
  },
  {
   "cell_type": "markdown",
   "id": "7799ea6a",
   "metadata": {
    "papermill": {
     "duration": 0.005913,
     "end_time": "2025-02-09T02:56:06.646367",
     "exception": false,
     "start_time": "2025-02-09T02:56:06.640454",
     "status": "completed"
    },
    "tags": []
   },
   "source": [
    "## **(5) Model application (Logistic Regression / Random Forest / XGBoost )**"
   ]
  },
  {
   "cell_type": "code",
   "execution_count": 11,
   "id": "de336570",
   "metadata": {
    "execution": {
     "iopub.execute_input": "2025-02-09T02:56:06.658501Z",
     "iopub.status.busy": "2025-02-09T02:56:06.658100Z",
     "iopub.status.idle": "2025-02-09T02:58:31.892874Z",
     "shell.execute_reply": "2025-02-09T02:58:31.891757Z"
    },
    "papermill": {
     "duration": 145.242294,
     "end_time": "2025-02-09T02:58:31.894168",
     "exception": false,
     "start_time": "2025-02-09T02:56:06.651874",
     "status": "completed"
    },
    "tags": []
   },
   "outputs": [
    {
     "name": "stdout",
     "output_type": "stream",
     "text": [
      "🔹 Training Logistic Regression...\n",
      "Logistic Regression - Validation Set \n",
      "              precision    recall  f1-score   support\n",
      "\n",
      "           0       1.00      1.00      1.00     45490\n",
      "           1       0.71      0.61      0.65        79\n",
      "\n",
      "    accuracy                           1.00     45569\n",
      "   macro avg       0.85      0.80      0.83     45569\n",
      "weighted avg       1.00      1.00      1.00     45569\n",
      "\n",
      "ROC-AUC Score: 0.9115\n",
      "--------------------------------------------------\n",
      "🔹 Training Random Forest...\n",
      "Random Forest - Validation Set \n",
      "              precision    recall  f1-score   support\n",
      "\n",
      "           0       1.00      1.00      1.00     45490\n",
      "           1       0.94      0.73      0.82        79\n",
      "\n",
      "    accuracy                           1.00     45569\n",
      "   macro avg       0.97      0.87      0.91     45569\n",
      "weighted avg       1.00      1.00      1.00     45569\n",
      "\n",
      "ROC-AUC Score: 0.9473\n",
      "--------------------------------------------------\n",
      "🔹 Training XGBoost...\n"
     ]
    },
    {
     "name": "stderr",
     "output_type": "stream",
     "text": [
      "c:\\Users\\rkpat\\AppData\\Local\\Programs\\Python\\Python311\\Lib\\site-packages\\xgboost\\core.py:158: UserWarning: [19:15:59] WARNING: C:\\buildkite-agent\\builds\\buildkite-windows-cpu-autoscaling-group-i-08cbc0333d8d4aae1-1\\xgboost\\xgboost-ci-windows\\src\\learner.cc:740: \n",
      "Parameters: { \"use_label_encoder\" } are not used.\n",
      "\n",
      "  warnings.warn(smsg, UserWarning)\n"
     ]
    },
    {
     "name": "stdout",
     "output_type": "stream",
     "text": [
      "XGBoost - Validation Set \n",
      "              precision    recall  f1-score   support\n",
      "\n",
      "           0       1.00      1.00      1.00     45490\n",
      "           1       0.95      0.73      0.83        79\n",
      "\n",
      "    accuracy                           1.00     45569\n",
      "   macro avg       0.98      0.87      0.91     45569\n",
      "weighted avg       1.00      1.00      1.00     45569\n",
      "\n",
      "ROC-AUC Score: 0.9728\n",
      "--------------------------------------------------\n"
     ]
    }
   ],
   "source": [
    "from sklearn.linear_model import LogisticRegression\n",
    "from sklearn.ensemble import RandomForestClassifier\n",
    "from xgboost import XGBClassifier\n",
    "from sklearn.metrics import classification_report, confusion_matrix, roc_auc_score\n",
    "\n",
    "# Model list\n",
    "models = {\n",
    "    \"Logistic Regression\": LogisticRegression(solver='liblinear', random_state=42),\n",
    "    \"Random Forest\": RandomForestClassifier(n_estimators=100, random_state=42),\n",
    "    \"XGBoost\": XGBClassifier(use_label_encoder=False, eval_metric='logloss', random_state=42)\n",
    "}\n",
    "\n",
    "# Model training and evaluation\n",
    "for name, model in models.items():\n",
    "    print(f\"🔹 Training {name}...\")\n",
    "    \n",
    "    # Model training    \n",
    "    model.fit(x_train_final, y_train_final)\n",
    "    \n",
    "    # Validation prediction\n",
    "    y_val_pred = model.predict(x_val)\n",
    "    y_val_prob = model.predict_proba(x_val)[:, 1] # Probability value for AUC-ROC evaluation\n",
    "    \n",
    "# Performance evaluation\n",
    "    print(f\"{name} - Validation Set \")\n",
    "    print(classification_report(y_val, y_val_pred))\n",
    "    print(f\"ROC-AUC Score: {roc_auc_score(y_val, y_val_prob):.4f}\")\n",
    "    print(\"-\" * 50)\n"
   ]
  },
  {
   "cell_type": "markdown",
   "id": "b0eab3c6",
   "metadata": {
    "papermill": {
     "duration": 0.00604,
     "end_time": "2025-02-09T02:58:31.906791",
     "exception": false,
     "start_time": "2025-02-09T02:58:31.900751",
     "status": "completed"
    },
    "tags": []
   },
   "source": [
    "## **(6) Test evaluation after selecting the optimal model**"
   ]
  },
  {
   "cell_type": "code",
   "execution_count": 12,
   "id": "ea56fc8a",
   "metadata": {
    "execution": {
     "iopub.execute_input": "2025-02-09T02:58:31.919048Z",
     "iopub.status.busy": "2025-02-09T02:58:31.918818Z",
     "iopub.status.idle": "2025-02-09T02:58:33.762827Z",
     "shell.execute_reply": "2025-02-09T02:58:33.761752Z"
    },
    "papermill": {
     "duration": 1.852085,
     "end_time": "2025-02-09T02:58:33.764581",
     "exception": false,
     "start_time": "2025-02-09T02:58:31.912496",
     "status": "completed"
    },
    "tags": []
   },
   "outputs": [
    {
     "name": "stdout",
     "output_type": "stream",
     "text": [
      "🔹 final model \n",
      " (XGBoost) - Test Set evaluation\n",
      "              precision    recall  f1-score   support\n",
      "\n",
      "           0       1.00      1.00      1.00     56864\n",
      "           1       0.94      0.81      0.87        98\n",
      "\n",
      "    accuracy                           1.00     56962\n",
      "   macro avg       0.97      0.90      0.93     56962\n",
      "weighted avg       1.00      1.00      1.00     56962\n",
      "\n",
      "ROC-AUC Score: 0.9745\n",
      "[[56859     5]\n",
      " [   19    79]]\n"
     ]
    }
   ],
   "source": [
    "# Select the best performing model (assuming XGBoost here)\n",
    "best_model = XGBClassifier(eval_metric='logloss', random_state=42)\n",
    "best_model.fit(x_train_final, y_train_final)\n",
    "\n",
    "# Test Set Prediction\n",
    "y_test_pred = best_model.predict(x_test)\n",
    "y_test_prob = best_model.predict_proba(x_test)[:, 1]\n",
    "\n",
    "# Performance evaluation\n",
    "print(\"🔹 final model \\n (XGBoost) - Test Set evaluation\")\n",
    "print(classification_report(y_test, y_test_pred))\n",
    "print(f\"ROC-AUC Score: {roc_auc_score(y_test, y_test_prob):.4f}\")\n",
    "print(confusion_matrix(y_test, y_test_pred))"
   ]
  },
  {
   "cell_type": "markdown",
   "id": "5b922acc",
   "metadata": {
    "papermill": {
     "duration": 0.005807,
     "end_time": "2025-02-09T02:58:33.777460",
     "exception": false,
     "start_time": "2025-02-09T02:58:33.771653",
     "status": "completed"
    },
    "tags": []
   },
   "source": [
    "- **Rate of Fraud Missed (FN, Recall=81%)** Failed to completely catch fraudulent transactions\n",
    "- **Rate of incorrectly detecting normal transactions as fraud (FP) (FP=5 cases)** Customer inconvenience does not appear to be significant.\n",
    "- **ROC-AUC = 0.9745** The overall prediction performance of the model looks good.\n",
    "- **However, I think that the performance of detecting fraudulent transactions would improve if Recall (81%) was increased.**"
   ]
  },
  {
   "cell_type": "markdown",
   "id": "6d02d4d2",
   "metadata": {
    "papermill": {
     "duration": 0.005616,
     "end_time": "2025-02-09T02:58:33.788738",
     "exception": false,
     "start_time": "2025-02-09T02:58:33.783122",
     "status": "completed"
    },
    "tags": []
   },
   "source": [
    "## **(7) Hyperparameter tuning**"
   ]
  },
  {
   "cell_type": "code",
   "execution_count": 13,
   "id": "21728707",
   "metadata": {
    "execution": {
     "iopub.execute_input": "2025-02-09T02:58:33.801142Z",
     "iopub.status.busy": "2025-02-09T02:58:33.800910Z",
     "iopub.status.idle": "2025-02-09T03:20:49.495362Z",
     "shell.execute_reply": "2025-02-09T03:20:49.494160Z"
    },
    "papermill": {
     "duration": 1335.708507,
     "end_time": "2025-02-09T03:20:49.503043",
     "exception": false,
     "start_time": "2025-02-09T02:58:33.794536",
     "status": "completed"
    },
    "tags": []
   },
   "outputs": [
    {
     "name": "stdout",
     "output_type": "stream",
     "text": [
      "Fitting 3 folds for each of 324 candidates, totalling 972 fits\n"
     ]
    },
    {
     "name": "stderr",
     "output_type": "stream",
     "text": [
      "c:\\Users\\rkpat\\AppData\\Local\\Programs\\Python\\Python311\\Lib\\site-packages\\xgboost\\core.py:158: UserWarning: [19:26:25] WARNING: C:\\buildkite-agent\\builds\\buildkite-windows-cpu-autoscaling-group-i-08cbc0333d8d4aae1-1\\xgboost\\xgboost-ci-windows\\src\\learner.cc:740: \n",
      "Parameters: { \"use_label_encoder\" } are not used.\n",
      "\n",
      "  warnings.warn(smsg, UserWarning)\n"
     ]
    },
    {
     "name": "stdout",
     "output_type": "stream",
     "text": [
      "Best Parameters: {'gamma': 0, 'learning_rate': 0.1, 'max_depth': 3, 'n_estimators': 100, 'scale_pos_weight': 100}\n",
      "              precision    recall  f1-score   support\n",
      "\n",
      "           0       1.00      1.00      1.00     45490\n",
      "           1       0.53      0.84      0.65        79\n",
      "\n",
      "    accuracy                           1.00     45569\n",
      "   macro avg       0.76      0.92      0.82     45569\n",
      "weighted avg       1.00      1.00      1.00     45569\n",
      "\n"
     ]
    }
   ],
   "source": [
    "# Utilize GridSearchCV\n",
    "from sklearn.model_selection import GridSearchCV\n",
    "\n",
    "# XGBoost Model\n",
    "xgb_model = XGBClassifier(use_label_encoder=False, eval_metric='logloss', random_state=42)\n",
    "\n",
    "# Set hyperparameter range\n",
    "param_grid = {\n",
    "    'n_estimators': [100, 200, 300],  #Number of trees\n",
    "    'max_depth': [3, 5, 7],  # Tree depth\n",
    "    'learning_rate': [0.01, 0.1, 0.2],  # Learning rate\n",
    "    'scale_pos_weight': [1, 10, 50, 100],  # Imbalance class handling\n",
    "    'gamma': [0, 0.1, 0.5]  # Leaf node splitting criteria\n",
    "}\n",
    "\n",
    "# GridSearchCV Application\n",
    "grid_search = GridSearchCV(xgb_model, param_grid, cv=3, scoring='recall', n_jobs=-1, verbose=2)\n",
    "grid_search.fit(x_train_final, y_train_final)\n",
    "\n",
    "# Best hyperparameters\n",
    "print(\"Best Parameters:\", grid_search.best_params_)\n",
    "\n",
    "# Best Model\n",
    "best_xgb = grid_search.best_estimator_\n",
    "y_val_pred = best_xgb.predict(x_val)\n",
    "print(classification_report(y_val, y_val_pred))"
   ]
  },
  {
   "cell_type": "markdown",
   "id": "edfc5007",
   "metadata": {
    "papermill": {
     "duration": 0.005796,
     "end_time": "2025-02-09T03:20:49.515212",
     "exception": false,
     "start_time": "2025-02-09T03:20:49.509416",
     "status": "completed"
    },
    "tags": []
   },
   "source": [
    "* Recall increased after tuning (81% → 84%) Fraud transaction detection rate improved\n",
    "* Precision decrease (0.94 → 0.53) Increased when normal transactions are mistakenly judged to be fraudulent\n",
    "* F1-score decrease (0.87 → 0.65) → Precision is greatly lowered."
   ]
  }
 ],
 "metadata": {
  "kaggle": {
   "accelerator": "nvidiaTeslaT4",
   "dataSources": [
    {
     "datasetId": 310,
     "sourceId": 23498,
     "sourceType": "datasetVersion"
    }
   ],
   "dockerImageVersionId": 30886,
   "isGpuEnabled": true,
   "isInternetEnabled": true,
   "language": "python",
   "sourceType": "notebook"
  },
  "kernelspec": {
   "display_name": "Python 3",
   "language": "python",
   "name": "python3"
  },
  "language_info": {
   "codemirror_mode": {
    "name": "ipython",
    "version": 3
   },
   "file_extension": ".py",
   "mimetype": "text/x-python",
   "name": "python",
   "nbconvert_exporter": "python",
   "pygments_lexer": "ipython3",
   "version": "3.11.9"
  },
  "papermill": {
   "default_parameters": {},
   "duration": 1494.135627,
   "end_time": "2025-02-09T03:20:50.140366",
   "environment_variables": {},
   "exception": null,
   "input_path": "__notebook__.ipynb",
   "output_path": "__notebook__.ipynb",
   "parameters": {},
   "start_time": "2025-02-09T02:55:56.004739",
   "version": "2.6.0"
  }
 },
 "nbformat": 4,
 "nbformat_minor": 5
}
